{
  "nbformat": 4,
  "nbformat_minor": 0,
  "metadata": {
    "colab": {
      "name": "DataPreprocess.ipynb",
      "provenance": [],
      "collapsed_sections": [],
      "include_colab_link": true
    },
    "kernelspec": {
      "name": "python3",
      "display_name": "Python 3"
    }
  },
  "cells": [
    {
      "cell_type": "markdown",
      "metadata": {
        "id": "view-in-github",
        "colab_type": "text"
      },
      "source": [
        "<a href=\"https://colab.research.google.com/github/FaiberCamelo/SST/blob/main/DataPreprocess.ipynb\" target=\"_parent\"><img src=\"https://colab.research.google.com/assets/colab-badge.svg\" alt=\"Open In Colab\"/></a>"
      ]
    },
    {
      "cell_type": "code",
      "metadata": {
        "id": "FSFybN5vz9cf",
        "colab": {
          "base_uri": "https://localhost:8080/"
        },
        "outputId": "e99a4a64-bf0e-40fa-f94b-54dc347c7ffe"
      },
      "source": [
        "#Pandas: work with Datasets\n",
        "import pandas as pd\n",
        "\n",
        "#Matplotlib: 2D and 3D plots\n",
        "import matplotlib.pyplot as plt\n",
        "\n",
        "mc_dataset = pd.read_csv('https://docs.google.com/spreadsheets/d/e/2PACX-1vSZby59zWLSGBdsauy1XbX3y9XTD8kYmnXfKDR2k9hSeRBBfngt65ITCw6EvVxiGLe4Cbe7i0hGgrUt/pub?gid=0&single=true&output=csv')\n",
        "\n",
        "print(\"\\nDataset:\\n\")\n",
        "print(mc_dataset.head())"
      ],
      "execution_count": 1,
      "outputs": [
        {
          "output_type": "stream",
          "text": [
            "\n",
            "Dataset:\n",
            "\n",
            "   CustomerID  Gender  Age  AnnualIncome  SpendingScore\n",
            "0           1    Male   19            15             39\n",
            "1           2    Male   21            15             81\n",
            "2           3  Female   20            16              6\n",
            "3           4  Female   23            16             77\n",
            "4           5  Female   31            17             40\n"
          ],
          "name": "stdout"
        }
      ]
    },
    {
      "cell_type": "code",
      "metadata": {
        "id": "6r0eOYzm2g8y"
      },
      "source": [
        "mc_dataset.drop(['CustomerID'], axis=1, inplace=True)\n",
        "print(mc_dataset.head())"
      ],
      "execution_count": null,
      "outputs": []
    },
    {
      "cell_type": "code",
      "metadata": {
        "id": "dL2eoQSB2rVt"
      },
      "source": [
        "#Similar functions for others measures: https://pandas.pydata.org/pandas-docs/stable/reference/api/pandas.DataFrame.html\n",
        "print(\"\\nAttribute mean:\\n\")\n",
        "print(mc_dataset.mean())\n",
        "\n",
        "#print(\"\\nBasic statistics:\\n\")\n",
        "print(mc_dataset.describe().transpose())\n",
        "\n",
        "print(\"\\nGender distribution:\\n\")\n",
        "gd_ds = mc_dataset.groupby('Gender')['Gender'].count()\n",
        "print(gd_ds)"
      ],
      "execution_count": null,
      "outputs": []
    },
    {
      "cell_type": "code",
      "metadata": {
        "id": "te2SGKZq3N_p"
      },
      "source": [
        "#Histograma de frecuencias.\n",
        "plt.hist(mc_dataset['Age'])\n",
        "plt.show()\n",
        "#plt.savefig('AgeHistogram.png')\n",
        "\n",
        "#Scatter plot\n",
        "x = mc_dataset['AnnualIncome']\n",
        "y = mc_dataset['SpendingScore']\n",
        "plt.scatter(x, y)\n",
        "plt.show()\n",
        "#plt.savefig('Income_vs_Spending.png')\n"
      ],
      "execution_count": null,
      "outputs": []
    },
    {
      "cell_type": "code",
      "metadata": {
        "id": "ONCkFrOoT7JE"
      },
      "source": [
        "print(\"\\nCovariance matrix:\\n\")\n",
        "print(mc_dataset.cov())\n",
        "\n",
        "print(\"\\nCorrelation matrix:\\n\")\n",
        "corr = mc_dataset.corr()\n",
        "print(corr)\n",
        "\n",
        "#Correlation plot\n",
        "f = plt.figure(figsize=(5, 5))\n",
        "plt.matshow(corr, fignum=f.number)\n",
        "plt.xticks(range(len(corr.columns)), corr.columns,fontsize=10, rotation=45);\n",
        "plt.yticks(range(len(corr.columns)), corr.columns,fontsize=10, rotation=45);\n",
        "cb = plt.colorbar()\n",
        "cb.ax.tick_params(labelsize=10)\n",
        "#plt.title('Correlation Matrix', fontsize=16, )\n"
      ],
      "execution_count": null,
      "outputs": []
    },
    {
      "cell_type": "code",
      "metadata": {
        "id": "7ReL__e6dypY"
      },
      "source": [
        "#Attribute Scaling\n",
        "from sklearn.preprocessing import StandardScaler,  MinMaxScaler\n",
        "\n",
        "#numpy: powerful math library \n",
        "import numpy as np\n",
        "\n",
        "#Numeric columns only\n",
        "num_cols = mc_dataset.columns[mc_dataset.dtypes.apply(lambda c: np.issubdtype(c, np.number))]\n",
        "print(num_cols)\n",
        "\n",
        "#scaler = StandardScaler()\n",
        "scaler = MinMaxScaler()\n",
        "mc_dataset[num_cols] = scaler.fit_transform(mc_dataset[num_cols])\n",
        "\n",
        "#Plot new histogram for Age\n",
        "plt.hist(mc_dataset['Age'])\n",
        "plt.show()\n"
      ],
      "execution_count": null,
      "outputs": []
    }
  ]
}